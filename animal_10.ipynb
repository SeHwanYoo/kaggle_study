{
 "cells": [
  {
   "cell_type": "code",
   "execution_count": 10,
   "metadata": {},
   "outputs": [],
   "source": [
    "import tensorflow as tf \n",
    "from tensorflow.keras.utils import to_categorical\n",
    "import matplotlib.pyplot as plt \n",
    "import numpy as np \n",
    "from glob import glob \n",
    "import random \n",
    "import os\n",
    "\n",
    "from PIL import Image\n",
    "\n",
    "import cv2 as cv"
   ]
  },
  {
   "cell_type": "code",
   "execution_count": 25,
   "metadata": {},
   "outputs": [],
   "source": [
    "RES = 256\n",
    "N_CLASS = 10\n",
    "BATCH_SIZE = 64\n",
    "N_TRAIN = 20000\n",
    "\n",
    "# 26179 images \n",
    "N_VAL = 6179 \n",
    "\n",
    "class_name = ['cane', 'cavallo', 'elefante', 'farfalla', 'gallina', 'gatto', 'mucca', 'pecora', 'ragno', 'scoiattolo']"
   ]
  },
  {
   "cell_type": "code",
   "execution_count": 3,
   "metadata": {},
   "outputs": [],
   "source": [
    "data_dir = './20220303/archive' "
   ]
  },
  {
   "cell_type": "code",
   "execution_count": 15,
   "metadata": {},
   "outputs": [],
   "source": [
    "paths = '.'\n",
    "images_path = os.path.join(paths, '20220303', 'archive', 'raw-img')\n",
    "\n",
    "images = glob(images_path + '/*/*')"
   ]
  },
  {
   "cell_type": "code",
   "execution_count": 17,
   "metadata": {},
   "outputs": [
    {
     "data": {
      "text/plain": [
       "(225, 300, 3)"
      ]
     },
     "execution_count": 17,
     "metadata": {},
     "output_type": "execute_result"
    }
   ],
   "source": [
    "# images\n",
    "ttt = Image.open('.\\\\20220303\\\\archive\\\\raw-img\\\\cane\\\\OIF-e2bexWrojgtQnAPPcUfOWQ.jpeg')\n",
    "ttt = np.array(ttt)\n",
    "ttt.shape"
   ]
  },
  {
   "cell_type": "code",
   "execution_count": 26,
   "metadata": {},
   "outputs": [
    {
     "ename": "MemoryError",
     "evalue": "Unable to allocate 38.3 GiB for an array with shape (26179, 256, 256, 3) and data type float64",
     "output_type": "error",
     "traceback": [
      "\u001b[1;31m---------------------------------------------------------------------------\u001b[0m",
      "\u001b[1;31mMemoryError\u001b[0m                               Traceback (most recent call last)",
      "\u001b[1;32mC:\\Users\\SEHWAN~1\\AppData\\Local\\Temp/ipykernel_3284/2965252035.py\u001b[0m in \u001b[0;36m<module>\u001b[1;34m\u001b[0m\n\u001b[0;32m     48\u001b[0m \u001b[1;33m\u001b[0m\u001b[0m\n\u001b[0;32m     49\u001b[0m \u001b[1;31m# for file_path in images:\u001b[0m\u001b[1;33m\u001b[0m\u001b[1;33m\u001b[0m\u001b[1;33m\u001b[0m\u001b[0m\n\u001b[1;32m---> 50\u001b[1;33m \u001b[0mimages_list\u001b[0m \u001b[1;33m=\u001b[0m \u001b[0mnp\u001b[0m\u001b[1;33m.\u001b[0m\u001b[0mzeros\u001b[0m\u001b[1;33m(\u001b[0m\u001b[1;33m(\u001b[0m\u001b[0mlen\u001b[0m\u001b[1;33m(\u001b[0m\u001b[0mimages\u001b[0m\u001b[1;33m)\u001b[0m\u001b[1;33m,\u001b[0m \u001b[0mRES\u001b[0m\u001b[1;33m,\u001b[0m \u001b[0mRES\u001b[0m\u001b[1;33m,\u001b[0m \u001b[1;36m3\u001b[0m\u001b[1;33m)\u001b[0m\u001b[1;33m)\u001b[0m\u001b[1;33m\u001b[0m\u001b[1;33m\u001b[0m\u001b[0m\n\u001b[0m\u001b[0;32m     51\u001b[0m \u001b[0mlabels_list\u001b[0m \u001b[1;33m=\u001b[0m \u001b[0mnp\u001b[0m\u001b[1;33m.\u001b[0m\u001b[0mzeros\u001b[0m\u001b[1;33m(\u001b[0m\u001b[1;33m(\u001b[0m\u001b[0mlen\u001b[0m\u001b[1;33m(\u001b[0m\u001b[0mimages\u001b[0m\u001b[1;33m)\u001b[0m\u001b[1;33m,\u001b[0m \u001b[0mN_CLASS\u001b[0m\u001b[1;33m)\u001b[0m\u001b[1;33m)\u001b[0m\u001b[1;33m\u001b[0m\u001b[1;33m\u001b[0m\u001b[0m\n\u001b[0;32m     52\u001b[0m \u001b[1;33m\u001b[0m\u001b[0m\n",
      "\u001b[1;31mMemoryError\u001b[0m: Unable to allocate 38.3 GiB for an array with shape (26179, 256, 256, 3) and data type float64"
     ]
    }
   ],
   "source": [
    "# https://www.kaggle.com/code/min4tozaki/animal-classification\n",
    "# Converting to center\n",
    "\n",
    "def centering_img(img, tile_size):\n",
    "    # size = [RES, RES]\n",
    "    # size = RE\n",
    "    \n",
    "    img_size = img.shape\n",
    "    \n",
    "    row = (RES - img_size[0]) // 2\n",
    "    col = (RES - img_size[1]) // 2\n",
    "    \n",
    "    resized_img = img[row : (img_size[0] + row), col : (img_size[1] + col)]\n",
    "    # return resized_img.resize((tile_size, tile_size))\n",
    "    return resized_img\n",
    "    # return img\n",
    "    \n",
    "    # resized = np.zeros(list(size) + [img.shape[2]], dtype=np.uint8)\n",
    "    # resized[row:(row + img.size[0]), col:(col + img.size[1])] = img\n",
    "\n",
    "def get_image(img):\n",
    "    img = Image.open(img).convert('RGB')\n",
    "    # img = img.resize((RES, RES))\n",
    "    img = np.array(img)\n",
    "    \n",
    "    print(img.shape)\n",
    "    \n",
    "    if img.shape[0] > img.shape[1]:\n",
    "        tile_size = (int(img.shape[1] * RES / img.shape[0]), RES)\n",
    "    else:\n",
    "        tile_size = (int(img.shape[0] * RES / img.shape[1]), RES)\n",
    "        \n",
    "    print(tile_size)\n",
    "    \n",
    "    img = centering_img(img, tile_size)\n",
    "    \n",
    "    \n",
    "    print(img.shape)\n",
    "    # img = np.array(img) / 254.\n",
    "    return img \n",
    "\n",
    "\n",
    "def get_label(name):\n",
    "    lbl = name.split('\\\\')[-2]\n",
    "    # print(lbl)\n",
    "    return to_categorical(class_name.index(lbl), N_CLASS)\n",
    "\n",
    "\n",
    "# for file_path in images:\n",
    "images_list = np.zeros((len(images), RES, RES, 3))\n",
    "labels_list = np.zeros((len(images), N_CLASS))\n",
    "\n",
    "for idx, val in enumerate(images):\n",
    "    images_list[idx, :, :, :] = get_image(val)\n",
    "    labels_list[idx, :] = get_label(val)\n",
    "    \n",
    "    \n",
    "images_list.shape, labels_list.shape"
   ]
  },
  {
   "cell_type": "code",
   "execution_count": 32,
   "metadata": {},
   "outputs": [
    {
     "data": {
      "text/plain": [
       "array([[[[0.90588235, 0.90588235, 0.86666667],\n",
       "         [0.89411765, 0.89411765, 0.85490196],\n",
       "         [0.88627451, 0.88627451, 0.84705882],\n",
       "         ...,\n",
       "         [0.93333333, 0.90588235, 0.88235294],\n",
       "         [0.9372549 , 0.90980392, 0.88627451],\n",
       "         [0.94117647, 0.91372549, 0.89019608]],\n",
       "\n",
       "        [[0.89803922, 0.89803922, 0.85882353],\n",
       "         [0.88627451, 0.88627451, 0.84705882],\n",
       "         [0.87843137, 0.87843137, 0.83921569],\n",
       "         ...,\n",
       "         [0.92941176, 0.90196078, 0.87843137],\n",
       "         [0.93333333, 0.90588235, 0.88235294],\n",
       "         [0.9372549 , 0.90980392, 0.88627451]],\n",
       "\n",
       "        [[0.89019608, 0.89019608, 0.85098039],\n",
       "         [0.88235294, 0.88235294, 0.84313725],\n",
       "         [0.87058824, 0.87058824, 0.83137255],\n",
       "         ...,\n",
       "         [0.92156863, 0.89411765, 0.87058824],\n",
       "         [0.9254902 , 0.89803922, 0.8745098 ],\n",
       "         [0.92941176, 0.90196078, 0.87843137]],\n",
       "\n",
       "        ...,\n",
       "\n",
       "        [[0.3372549 , 0.34509804, 0.34117647],\n",
       "         [0.32941176, 0.3372549 , 0.33333333],\n",
       "         [0.33333333, 0.34117647, 0.3372549 ],\n",
       "         ...,\n",
       "         [0.94117647, 0.92156863, 0.89803922],\n",
       "         [0.94901961, 0.92941176, 0.90588235],\n",
       "         [0.95294118, 0.93333333, 0.90980392]],\n",
       "\n",
       "        [[0.33333333, 0.34117647, 0.3372549 ],\n",
       "         [0.3254902 , 0.33333333, 0.32941176],\n",
       "         [0.32941176, 0.3372549 , 0.33333333],\n",
       "         ...,\n",
       "         [0.94117647, 0.92156863, 0.89803922],\n",
       "         [0.94901961, 0.92941176, 0.90588235],\n",
       "         [0.95294118, 0.93333333, 0.90980392]],\n",
       "\n",
       "        [[0.33333333, 0.34117647, 0.3372549 ],\n",
       "         [0.32156863, 0.32941176, 0.3254902 ],\n",
       "         [0.32941176, 0.3372549 , 0.33333333],\n",
       "         ...,\n",
       "         [0.94509804, 0.9254902 , 0.90196078],\n",
       "         [0.94901961, 0.92941176, 0.90588235],\n",
       "         [0.95294118, 0.93333333, 0.90980392]]],\n",
       "\n",
       "\n",
       "       [[[0.99607843, 0.99607843, 0.99607843],\n",
       "         [0.99607843, 0.99607843, 0.99607843],\n",
       "         [0.99607843, 0.99607843, 0.99607843],\n",
       "         ...,\n",
       "         [0.99215686, 0.99215686, 0.99215686],\n",
       "         [0.99215686, 0.99215686, 0.99215686],\n",
       "         [0.98823529, 0.98823529, 0.98823529]],\n",
       "\n",
       "        [[0.99215686, 0.99215686, 0.99215686],\n",
       "         [0.99215686, 0.99215686, 0.99215686],\n",
       "         [0.99215686, 0.99215686, 0.99215686],\n",
       "         ...,\n",
       "         [0.98823529, 0.98823529, 0.98823529],\n",
       "         [0.98823529, 0.98823529, 0.98823529],\n",
       "         [0.98823529, 0.98823529, 0.98823529]],\n",
       "\n",
       "        [[0.98823529, 0.98823529, 0.98823529],\n",
       "         [0.98823529, 0.98823529, 0.98823529],\n",
       "         [0.98823529, 0.98823529, 0.98823529],\n",
       "         ...,\n",
       "         [0.99607843, 0.99607843, 0.99607843],\n",
       "         [0.99215686, 0.99215686, 0.99215686],\n",
       "         [0.98823529, 0.98823529, 0.98823529]],\n",
       "\n",
       "        ...,\n",
       "\n",
       "        [[0.18823529, 0.18823529, 0.18823529],\n",
       "         [0.18823529, 0.18823529, 0.18823529],\n",
       "         [0.22352941, 0.22352941, 0.22352941],\n",
       "         ...,\n",
       "         [0.18039216, 0.18039216, 0.18039216],\n",
       "         [0.18823529, 0.18823529, 0.18823529],\n",
       "         [0.19215686, 0.19215686, 0.19215686]],\n",
       "\n",
       "        [[0.19607843, 0.19607843, 0.19607843],\n",
       "         [0.19607843, 0.19607843, 0.19607843],\n",
       "         [0.18431373, 0.18431373, 0.18431373],\n",
       "         ...,\n",
       "         [0.19215686, 0.19215686, 0.19215686],\n",
       "         [0.18823529, 0.18823529, 0.18823529],\n",
       "         [0.19215686, 0.19215686, 0.19215686]],\n",
       "\n",
       "        [[0.20392157, 0.20392157, 0.20392157],\n",
       "         [0.19607843, 0.19607843, 0.19607843],\n",
       "         [0.19215686, 0.19215686, 0.19215686],\n",
       "         ...,\n",
       "         [0.19607843, 0.19607843, 0.19607843],\n",
       "         [0.19215686, 0.19215686, 0.19215686],\n",
       "         [0.20784314, 0.20784314, 0.20784314]]],\n",
       "\n",
       "\n",
       "       [[[0.44705882, 0.44705882, 0.30588235],\n",
       "         [0.45882353, 0.45882353, 0.32156863],\n",
       "         [0.46666667, 0.46666667, 0.32941176],\n",
       "         ...,\n",
       "         [0.41176471, 0.44705882, 0.31372549],\n",
       "         [0.40784314, 0.44705882, 0.30588235],\n",
       "         [0.40784314, 0.44705882, 0.30196078]],\n",
       "\n",
       "        [[0.45882353, 0.45490196, 0.3372549 ],\n",
       "         [0.46666667, 0.4627451 , 0.34901961],\n",
       "         [0.47843137, 0.4745098 , 0.36078431],\n",
       "         ...,\n",
       "         [0.43137255, 0.47843137, 0.3254902 ],\n",
       "         [0.43137255, 0.47843137, 0.3254902 ],\n",
       "         [0.43529412, 0.48235294, 0.3254902 ]],\n",
       "\n",
       "        [[0.46666667, 0.45882353, 0.36862745],\n",
       "         [0.4745098 , 0.46666667, 0.38039216],\n",
       "         [0.48627451, 0.47843137, 0.39215686],\n",
       "         ...,\n",
       "         [0.45098039, 0.50980392, 0.32941176],\n",
       "         [0.45490196, 0.51764706, 0.3372549 ],\n",
       "         [0.45882353, 0.52156863, 0.33333333]],\n",
       "\n",
       "        ...,\n",
       "\n",
       "        [[0.47058824, 0.64705882, 0.23529412],\n",
       "         [0.45098039, 0.62745098, 0.21960784],\n",
       "         [0.45098039, 0.62745098, 0.22352941],\n",
       "         ...,\n",
       "         [0.54509804, 0.69019608, 0.29019608],\n",
       "         [0.54117647, 0.68235294, 0.30196078],\n",
       "         [0.54117647, 0.67843137, 0.30980392]],\n",
       "\n",
       "        [[0.42745098, 0.60784314, 0.18431373],\n",
       "         [0.42745098, 0.60392157, 0.18431373],\n",
       "         [0.43921569, 0.61568627, 0.20784314],\n",
       "         ...,\n",
       "         [0.56078431, 0.70588235, 0.30588235],\n",
       "         [0.55686275, 0.69803922, 0.31764706],\n",
       "         [0.54901961, 0.69019608, 0.31764706]],\n",
       "\n",
       "        [[0.40784314, 0.59215686, 0.14901961],\n",
       "         [0.41960784, 0.6       , 0.16862745],\n",
       "         [0.43529412, 0.61176471, 0.20392157],\n",
       "         ...,\n",
       "         [0.57254902, 0.71372549, 0.31764706],\n",
       "         [0.56470588, 0.70588235, 0.32156863],\n",
       "         [0.54901961, 0.68627451, 0.31764706]]],\n",
       "\n",
       "\n",
       "       ...,\n",
       "\n",
       "\n",
       "       [[[0.46666667, 0.43137255, 0.40392157],\n",
       "         [0.44705882, 0.41568627, 0.38039216],\n",
       "         [0.40784314, 0.37254902, 0.33333333],\n",
       "         ...,\n",
       "         [1.        , 0.96862745, 0.81176471],\n",
       "         [0.99215686, 0.94901961, 0.77254902],\n",
       "         [0.97254902, 0.92941176, 0.7372549 ]],\n",
       "\n",
       "        [[0.44313725, 0.41568627, 0.38431373],\n",
       "         [0.41960784, 0.39215686, 0.35294118],\n",
       "         [0.41568627, 0.38823529, 0.34509804],\n",
       "         ...,\n",
       "         [0.99607843, 0.96470588, 0.81568627],\n",
       "         [0.99607843, 0.97254902, 0.80392157],\n",
       "         [0.96078431, 0.92941176, 0.74901961]],\n",
       "\n",
       "        [[0.47058824, 0.44705882, 0.41176471],\n",
       "         [0.41568627, 0.39215686, 0.35686275],\n",
       "         [0.47843137, 0.45490196, 0.41568627],\n",
       "         ...,\n",
       "         [0.99215686, 0.97647059, 0.83137255],\n",
       "         [0.99607843, 0.98039216, 0.83137255],\n",
       "         [0.97254902, 0.95294118, 0.8       ]],\n",
       "\n",
       "        ...,\n",
       "\n",
       "        [[0.61568627, 0.61960784, 0.59607843],\n",
       "         [0.60784314, 0.61176471, 0.58823529],\n",
       "         [0.59607843, 0.6       , 0.57647059],\n",
       "         ...,\n",
       "         [0.50196078, 0.49803922, 0.44313725],\n",
       "         [0.49803922, 0.49411765, 0.44313725],\n",
       "         [0.47843137, 0.47058824, 0.42352941]],\n",
       "\n",
       "        [[0.61176471, 0.61568627, 0.59215686],\n",
       "         [0.6       , 0.60392157, 0.58039216],\n",
       "         [0.58823529, 0.59215686, 0.56862745],\n",
       "         ...,\n",
       "         [0.48627451, 0.49803922, 0.43921569],\n",
       "         [0.52156863, 0.53333333, 0.4745098 ],\n",
       "         [0.5254902 , 0.5372549 , 0.47843137]],\n",
       "\n",
       "        [[0.59215686, 0.59607843, 0.56862745],\n",
       "         [0.61568627, 0.61960784, 0.59215686],\n",
       "         [0.61568627, 0.61960784, 0.59607843],\n",
       "         ...,\n",
       "         [0.45098039, 0.4627451 , 0.41176471],\n",
       "         [0.49803922, 0.51372549, 0.45882353],\n",
       "         [0.50588235, 0.52156863, 0.4627451 ]]],\n",
       "\n",
       "\n",
       "       [[[0.79215686, 0.90196078, 0.97647059],\n",
       "         [0.75294118, 0.85882353, 0.96470588],\n",
       "         [0.72941176, 0.82745098, 0.97254902],\n",
       "         ...,\n",
       "         [0.33333333, 0.41176471, 0.47058824],\n",
       "         [0.33333333, 0.41960784, 0.48235294],\n",
       "         [0.34509804, 0.43529412, 0.49803922]],\n",
       "\n",
       "        [[0.75686275, 0.86666667, 0.95686275],\n",
       "         [0.72156863, 0.82745098, 0.94117647],\n",
       "         [0.70588235, 0.80392157, 0.95686275],\n",
       "         ...,\n",
       "         [0.34117647, 0.41960784, 0.45882353],\n",
       "         [0.32941176, 0.40784314, 0.45490196],\n",
       "         [0.3372549 , 0.42745098, 0.47058824]],\n",
       "\n",
       "        [[0.75686275, 0.8627451 , 0.96862745],\n",
       "         [0.7254902 , 0.83137255, 0.95686275],\n",
       "         [0.71372549, 0.81176471, 0.96470588],\n",
       "         ...,\n",
       "         [0.39607843, 0.46666667, 0.49803922],\n",
       "         [0.35686275, 0.43137255, 0.46666667],\n",
       "         [0.35294118, 0.43137255, 0.45882353]],\n",
       "\n",
       "        ...,\n",
       "\n",
       "        [[0.65490196, 0.51372549, 0.41960784],\n",
       "         [0.73333333, 0.57647059, 0.45882353],\n",
       "         [0.69411765, 0.52941176, 0.38823529],\n",
       "         ...,\n",
       "         [0.98823529, 0.99607843, 0.98823529],\n",
       "         [0.98823529, 0.99215686, 0.98431373],\n",
       "         [0.99215686, 0.99215686, 0.99215686]],\n",
       "\n",
       "        [[0.6627451 , 0.5372549 , 0.4627451 ],\n",
       "         [0.76862745, 0.63137255, 0.52156863],\n",
       "         [0.70196078, 0.54509804, 0.41176471],\n",
       "         ...,\n",
       "         [0.90980392, 0.92156863, 0.91764706],\n",
       "         [0.98431373, 0.99215686, 0.98823529],\n",
       "         [1.        , 1.        , 1.        ]],\n",
       "\n",
       "        [[0.4627451 , 0.35686275, 0.29411765],\n",
       "         [0.8       , 0.67843137, 0.58039216],\n",
       "         [0.72941176, 0.58431373, 0.45490196],\n",
       "         ...,\n",
       "         [0.34509804, 0.34901961, 0.34901961],\n",
       "         [0.47058824, 0.47843137, 0.48235294],\n",
       "         [0.56862745, 0.58431373, 0.58039216]]],\n",
       "\n",
       "\n",
       "       [[[0.33333333, 0.45882353, 0.25882353],\n",
       "         [0.34117647, 0.46666667, 0.25490196],\n",
       "         [0.34509804, 0.47058824, 0.24705882],\n",
       "         ...,\n",
       "         [0.41568627, 0.4745098 , 0.31372549],\n",
       "         [0.42352941, 0.47843137, 0.3254902 ],\n",
       "         [0.43921569, 0.47843137, 0.34117647]],\n",
       "\n",
       "        [[0.31372549, 0.43137255, 0.23921569],\n",
       "         [0.3254902 , 0.44313725, 0.23921569],\n",
       "         [0.32941176, 0.45098039, 0.23529412],\n",
       "         ...,\n",
       "         [0.39607843, 0.45490196, 0.30980392],\n",
       "         [0.41176471, 0.45490196, 0.32156863],\n",
       "         [0.44313725, 0.48235294, 0.36078431]],\n",
       "\n",
       "        [[0.32156863, 0.43921569, 0.23921569],\n",
       "         [0.32156863, 0.43921569, 0.23529412],\n",
       "         [0.3254902 , 0.43921569, 0.23529412],\n",
       "         ...,\n",
       "         [0.40784314, 0.45882353, 0.34509804],\n",
       "         [0.42352941, 0.45882353, 0.35686275],\n",
       "         [0.46666667, 0.49019608, 0.4       ]],\n",
       "\n",
       "        ...,\n",
       "\n",
       "        [[0.99607843, 0.98039216, 1.        ],\n",
       "         [0.9254902 , 0.94509804, 0.83921569],\n",
       "         [0.70980392, 0.77254902, 0.44313725],\n",
       "         ...,\n",
       "         [0.79215686, 0.79215686, 0.79215686],\n",
       "         [0.92156863, 0.92156863, 0.92156863],\n",
       "         [0.99607843, 0.99607843, 0.99607843]],\n",
       "\n",
       "        [[0.98823529, 0.96862745, 1.        ],\n",
       "         [0.99215686, 0.98823529, 0.99607843],\n",
       "         [0.98039216, 0.99215686, 0.87843137],\n",
       "         ...,\n",
       "         [0.98431373, 0.98431373, 0.98431373],\n",
       "         [0.98431373, 0.98431373, 0.98431373],\n",
       "         [0.98823529, 0.98823529, 0.98823529]],\n",
       "\n",
       "        [[0.99607843, 0.99215686, 0.94117647],\n",
       "         [0.99215686, 0.98431373, 0.99215686],\n",
       "         [0.98823529, 0.98823529, 0.98431373],\n",
       "         ...,\n",
       "         [0.99215686, 0.99215686, 0.99215686],\n",
       "         [0.99215686, 0.99215686, 0.99215686],\n",
       "         [0.98823529, 0.98823529, 0.98823529]]]])"
      ]
     },
     "execution_count": 32,
     "metadata": {},
     "output_type": "execute_result"
    }
   ],
   "source": [
    "# labels_list\n",
    "# images_list"
   ]
  },
  {
   "cell_type": "code",
   "execution_count": 36,
   "metadata": {},
   "outputs": [],
   "source": [
    "list_ds = tf.data.Dataset.from_tensor_slices((images_list, labels_list))\n",
    "\n",
    "val_size = int(len(images) * 0.2)\n",
    "train_ds = list_ds.skip(val_size)\n",
    "val_ds = list_ds.take(val_size)"
   ]
  },
  {
   "cell_type": "code",
   "execution_count": 19,
   "metadata": {},
   "outputs": [],
   "source": [
    "for img, lbl in list_ds.take(1):\n",
    "    pass \n"
   ]
  },
  {
   "cell_type": "code",
   "execution_count": 20,
   "metadata": {},
   "outputs": [
    {
     "data": {
      "image/png": "[encoded data removed]",
      "text/plain": [
       "<Figure size 432x288 with 1 Axes>"
      ]
     },
     "metadata": {
      "needs_background": "light"
     },
     "output_type": "display_data"
    },
    {
     "name": "stdout",
     "output_type": "stream",
     "text": [
      "tf.Tensor([1. 0. 0. 0. 0. 0. 0. 0. 0. 0.], shape=(10,), dtype=float64)\n"
     ]
    }
   ],
   "source": [
    "\n",
    "plt.imshow(img)\n",
    "# plt.title(lbl)\n",
    "plt.show()\n",
    "print(lbl)"
   ]
  },
  {
   "cell_type": "code",
   "execution_count": 37,
   "metadata": {},
   "outputs": [],
   "source": [
    "train_ds1 = train_ds.shuffle(100).batch(64)\n",
    "val_ds1 = val_ds.batch(64)"
   ]
  },
  {
   "cell_type": "code",
   "execution_count": 6,
   "metadata": {},
   "outputs": [
    {
     "name": "stdout",
     "output_type": "stream",
     "text": [
      "Found 26179 files belonging to 10 classes.\n"
     ]
    }
   ],
   "source": [
    "# image = [] \n",
    "# label = []\n",
    "# for img in images: \n",
    "#     img = \n",
    "#     label = img.split('\\\\')[-2]\n",
    "\n",
    "images_ds = tf.keras.preprocessing.image_dataset_from_directory(\n",
    "    images_path, \n",
    "    # validation_split=0.2,\n",
    "    shuffle=True, \n",
    "    image_size=(RES, RES), \n",
    "    batch_size=BATCH_SIZE,\n",
    "    label_mode = 'categorical'\n",
    ")\n",
    "\n"
   ]
  },
  {
   "cell_type": "code",
   "execution_count": 7,
   "metadata": {},
   "outputs": [],
   "source": [
    "def preprocessing(image, label):\n",
    "    image = tf.cast(image / 255. , tf.float32)\n",
    "    return image, label"
   ]
  },
  {
   "cell_type": "code",
   "execution_count": 8,
   "metadata": {},
   "outputs": [
    {
     "data": {
      "text/plain": [
       "<BatchDataset shapes: ((None, 100, 100, 3), (None, 10)), types: (tf.float32, tf.float32)>"
      ]
     },
     "execution_count": 8,
     "metadata": {},
     "output_type": "execute_result"
    }
   ],
   "source": [
    "images_ds.unbatch().map(preprocessing).batch(BATCH_SIZE)"
   ]
  },
  {
   "cell_type": "code",
   "execution_count": 10,
   "metadata": {},
   "outputs": [],
   "source": [
    "train_size = int(0.7 * len(images_ds))\n",
    "\n",
    "train_ds = images_ds.take(train_size)\n",
    "val_ds = images_ds.skip(train_size)"
   ]
  },
  {
   "cell_type": "code",
   "execution_count": 11,
   "metadata": {},
   "outputs": [
    {
     "data": {
      "text/plain": [
       "<PrefetchDataset shapes: ((None, 100, 100, 3), (None, 10)), types: (tf.float32, tf.float32)>"
      ]
     },
     "execution_count": 11,
     "metadata": {},
     "output_type": "execute_result"
    }
   ],
   "source": [
    "# images_ds.prefetch(tf.data.AUTOTUNE)\n",
    "# len(images_ds)\n",
    "train_ds.prefetch(tf.data.AUTOTUNE)\n",
    "val_ds.prefetch(tf.data.AUTOTUNE)"
   ]
  },
  {
   "cell_type": "code",
   "execution_count": 36,
   "metadata": {},
   "outputs": [
    {
     "name": "stderr",
     "output_type": "stream",
     "text": [
      "C:\\Users\\Sehwan Yoo\\AppData\\Local\\Programs\\Python\\Python39\\lib\\site-packages\\matplotlib\\text.py:1215: FutureWarning: elementwise comparison failed; returning scalar instead, but in the future will perform elementwise comparison\n",
      "  if s != self._text:\n"
     ]
    },
    {
     "data": {
      "image/png": "[encoded data removed]",
      "text/plain": [
       "<Figure size 432x288 with 1 Axes>"
      ]
     },
     "metadata": {
      "needs_background": "light"
     },
     "output_type": "display_data"
    }
   ],
   "source": [
    "for img, label in train_ds1.take(5):\n",
    "    plt.imshow(img[0].numpy().astype('uint8'))\n",
    "    plt.title(label[0].numpy()) \n",
    "    \n",
    "plt.show()"
   ]
  },
  {
   "cell_type": "code",
   "execution_count": 38,
   "metadata": {},
   "outputs": [
    {
     "name": "stdout",
     "output_type": "stream",
     "text": [
      "WARNING:tensorflow:`input_shape` is undefined or non-square, or `rows` is not 224. Weights for input shape (224, 224) will be loaded as the default.\n"
     ]
    }
   ],
   "source": [
    "from tensorflow.keras.applications import MobileNetV3Small\n",
    "from tensorflow.keras.applications.mobilenet_v3 import preprocess_input\n",
    "mobilenetv3 = MobileNetV3Small(weights='imagenet', include_top=False, input_shape=(RES, RES, 3))"
   ]
  },
  {
   "cell_type": "code",
   "execution_count": 41,
   "metadata": {},
   "outputs": [],
   "source": [
    "def create_model():\n",
    "    inputs = tf.keras.Input(shape=(RES, RES, 3))\n",
    "    x = preprocess_input(inputs) \n",
    "    x = mobilenetv3(x) \n",
    "    x = tf.keras.layers.GlobalAveragePooling2D()(x) \n",
    "    x = tf.keras.layers.Dense(N_CLASS)(x)\n",
    "    x = tf.keras.layers.BatchNormalization()(x) \n",
    "    x = tf.keras.layers.Softmax()(x)\n",
    "    model = tf.keras.Model(inputs=inputs, outputs=x)\n",
    "    \n",
    "    return model"
   ]
  },
  {
   "cell_type": "code",
   "execution_count": 42,
   "metadata": {},
   "outputs": [],
   "source": [
    "model = create_model()"
   ]
  },
  {
   "cell_type": "code",
   "execution_count": 44,
   "metadata": {},
   "outputs": [],
   "source": [
    "model.compile(tf.keras.optimizers.Adam(learning_rate=0.001), \n",
    "              loss=tf.keras.losses.CategoricalCrossentropy(), \n",
    "              metrics=['accuracy'])\n"
   ]
  },
  {
   "cell_type": "code",
   "execution_count": 45,
   "metadata": {},
   "outputs": [
    {
     "name": "stdout",
     "output_type": "stream",
     "text": [
      "Epoch 1/10\n",
      "328/328 [==============================] - 184s 543ms/step - loss: 2.3329 - accuracy: 0.0934 - val_loss: 2.6103 - val_accuracy: 0.0000e+00\n",
      "Epoch 2/10\n",
      "328/328 [==============================] - 174s 531ms/step - loss: 2.2699 - accuracy: 0.1889 - val_loss: 2.7166 - val_accuracy: 0.0000e+00\n",
      "Epoch 3/10\n",
      "328/328 [==============================] - 162s 494ms/step - loss: 2.2399 - accuracy: 0.2090 - val_loss: 2.9383 - val_accuracy: 0.0000e+00\n",
      "Epoch 4/10\n",
      "230/328 [====================>.........] - ETA: 44s - loss: 2.2539 - accuracy: 0.0501"
     ]
    },
    {
     "ename": "KeyboardInterrupt",
     "evalue": "",
     "output_type": "error",
     "traceback": [
      "\u001b[1;31m---------------------------------------------------------------------------\u001b[0m",
      "\u001b[1;31mKeyboardInterrupt\u001b[0m                         Traceback (most recent call last)",
      "\u001b[1;32mC:\\Users\\SEHWAN~1\\AppData\\Local\\Temp/ipykernel_42416/1233668068.py\u001b[0m in \u001b[0;36m<module>\u001b[1;34m\u001b[0m\n\u001b[1;32m----> 1\u001b[1;33m \u001b[0mhist\u001b[0m \u001b[1;33m=\u001b[0m \u001b[0mmodel\u001b[0m\u001b[1;33m.\u001b[0m\u001b[0mfit\u001b[0m\u001b[1;33m(\u001b[0m\u001b[0mtrain_ds1\u001b[0m\u001b[1;33m,\u001b[0m \u001b[0mepochs\u001b[0m\u001b[1;33m=\u001b[0m\u001b[1;36m10\u001b[0m\u001b[1;33m,\u001b[0m \u001b[0mvalidation_data\u001b[0m\u001b[1;33m=\u001b[0m\u001b[0mval_ds1\u001b[0m\u001b[1;33m)\u001b[0m\u001b[1;33m\u001b[0m\u001b[1;33m\u001b[0m\u001b[0m\n\u001b[0m",
      "\u001b[1;32m~\\AppData\\Local\\Programs\\Python\\Python39\\lib\\site-packages\\keras\\engine\\training.py\u001b[0m in \u001b[0;36mfit\u001b[1;34m(self, x, y, batch_size, epochs, verbose, callbacks, validation_split, validation_data, shuffle, class_weight, sample_weight, initial_epoch, steps_per_epoch, validation_steps, validation_batch_size, validation_freq, max_queue_size, workers, use_multiprocessing)\u001b[0m\n\u001b[0;32m   1182\u001b[0m                 _r=1):\n\u001b[0;32m   1183\u001b[0m               \u001b[0mcallbacks\u001b[0m\u001b[1;33m.\u001b[0m\u001b[0mon_train_batch_begin\u001b[0m\u001b[1;33m(\u001b[0m\u001b[0mstep\u001b[0m\u001b[1;33m)\u001b[0m\u001b[1;33m\u001b[0m\u001b[1;33m\u001b[0m\u001b[0m\n\u001b[1;32m-> 1184\u001b[1;33m               \u001b[0mtmp_logs\u001b[0m \u001b[1;33m=\u001b[0m \u001b[0mself\u001b[0m\u001b[1;33m.\u001b[0m\u001b[0mtrain_function\u001b[0m\u001b[1;33m(\u001b[0m\u001b[0miterator\u001b[0m\u001b[1;33m)\u001b[0m\u001b[1;33m\u001b[0m\u001b[1;33m\u001b[0m\u001b[0m\n\u001b[0m\u001b[0;32m   1185\u001b[0m               \u001b[1;32mif\u001b[0m \u001b[0mdata_handler\u001b[0m\u001b[1;33m.\u001b[0m\u001b[0mshould_sync\u001b[0m\u001b[1;33m:\u001b[0m\u001b[1;33m\u001b[0m\u001b[1;33m\u001b[0m\u001b[0m\n\u001b[0;32m   1186\u001b[0m                 \u001b[0mcontext\u001b[0m\u001b[1;33m.\u001b[0m\u001b[0masync_wait\u001b[0m\u001b[1;33m(\u001b[0m\u001b[1;33m)\u001b[0m\u001b[1;33m\u001b[0m\u001b[1;33m\u001b[0m\u001b[0m\n",
      "\u001b[1;32m~\\AppData\\Local\\Programs\\Python\\Python39\\lib\\site-packages\\tensorflow\\python\\eager\\def_function.py\u001b[0m in \u001b[0;36m__call__\u001b[1;34m(self, *args, **kwds)\u001b[0m\n\u001b[0;32m    883\u001b[0m \u001b[1;33m\u001b[0m\u001b[0m\n\u001b[0;32m    884\u001b[0m       \u001b[1;32mwith\u001b[0m \u001b[0mOptionalXlaContext\u001b[0m\u001b[1;33m(\u001b[0m\u001b[0mself\u001b[0m\u001b[1;33m.\u001b[0m\u001b[0m_jit_compile\u001b[0m\u001b[1;33m)\u001b[0m\u001b[1;33m:\u001b[0m\u001b[1;33m\u001b[0m\u001b[1;33m\u001b[0m\u001b[0m\n\u001b[1;32m--> 885\u001b[1;33m         \u001b[0mresult\u001b[0m \u001b[1;33m=\u001b[0m \u001b[0mself\u001b[0m\u001b[1;33m.\u001b[0m\u001b[0m_call\u001b[0m\u001b[1;33m(\u001b[0m\u001b[1;33m*\u001b[0m\u001b[0margs\u001b[0m\u001b[1;33m,\u001b[0m \u001b[1;33m**\u001b[0m\u001b[0mkwds\u001b[0m\u001b[1;33m)\u001b[0m\u001b[1;33m\u001b[0m\u001b[1;33m\u001b[0m\u001b[0m\n\u001b[0m\u001b[0;32m    886\u001b[0m \u001b[1;33m\u001b[0m\u001b[0m\n\u001b[0;32m    887\u001b[0m       \u001b[0mnew_tracing_count\u001b[0m \u001b[1;33m=\u001b[0m \u001b[0mself\u001b[0m\u001b[1;33m.\u001b[0m\u001b[0mexperimental_get_tracing_count\u001b[0m\u001b[1;33m(\u001b[0m\u001b[1;33m)\u001b[0m\u001b[1;33m\u001b[0m\u001b[1;33m\u001b[0m\u001b[0m\n",
      "\u001b[1;32m~\\AppData\\Local\\Programs\\Python\\Python39\\lib\\site-packages\\tensorflow\\python\\eager\\def_function.py\u001b[0m in \u001b[0;36m_call\u001b[1;34m(self, *args, **kwds)\u001b[0m\n\u001b[0;32m    915\u001b[0m       \u001b[1;31m# In this case we have created variables on the first call, so we run the\u001b[0m\u001b[1;33m\u001b[0m\u001b[1;33m\u001b[0m\u001b[1;33m\u001b[0m\u001b[0m\n\u001b[0;32m    916\u001b[0m       \u001b[1;31m# defunned version which is guaranteed to never create variables.\u001b[0m\u001b[1;33m\u001b[0m\u001b[1;33m\u001b[0m\u001b[1;33m\u001b[0m\u001b[0m\n\u001b[1;32m--> 917\u001b[1;33m       \u001b[1;32mreturn\u001b[0m \u001b[0mself\u001b[0m\u001b[1;33m.\u001b[0m\u001b[0m_stateless_fn\u001b[0m\u001b[1;33m(\u001b[0m\u001b[1;33m*\u001b[0m\u001b[0margs\u001b[0m\u001b[1;33m,\u001b[0m \u001b[1;33m**\u001b[0m\u001b[0mkwds\u001b[0m\u001b[1;33m)\u001b[0m  \u001b[1;31m# pylint: disable=not-callable\u001b[0m\u001b[1;33m\u001b[0m\u001b[1;33m\u001b[0m\u001b[0m\n\u001b[0m\u001b[0;32m    918\u001b[0m     \u001b[1;32melif\u001b[0m \u001b[0mself\u001b[0m\u001b[1;33m.\u001b[0m\u001b[0m_stateful_fn\u001b[0m \u001b[1;32mis\u001b[0m \u001b[1;32mnot\u001b[0m \u001b[1;32mNone\u001b[0m\u001b[1;33m:\u001b[0m\u001b[1;33m\u001b[0m\u001b[1;33m\u001b[0m\u001b[0m\n\u001b[0;32m    919\u001b[0m       \u001b[1;31m# Release the lock early so that multiple threads can perform the call\u001b[0m\u001b[1;33m\u001b[0m\u001b[1;33m\u001b[0m\u001b[1;33m\u001b[0m\u001b[0m\n",
      "\u001b[1;32m~\\AppData\\Local\\Programs\\Python\\Python39\\lib\\site-packages\\tensorflow\\python\\eager\\function.py\u001b[0m in \u001b[0;36m__call__\u001b[1;34m(self, *args, **kwargs)\u001b[0m\n\u001b[0;32m   3037\u001b[0m       (graph_function,\n\u001b[0;32m   3038\u001b[0m        filtered_flat_args) = self._maybe_define_function(args, kwargs)\n\u001b[1;32m-> 3039\u001b[1;33m     return graph_function._call_flat(\n\u001b[0m\u001b[0;32m   3040\u001b[0m         filtered_flat_args, captured_inputs=graph_function.captured_inputs)  # pylint: disable=protected-access\n\u001b[0;32m   3041\u001b[0m \u001b[1;33m\u001b[0m\u001b[0m\n",
      "\u001b[1;32m~\\AppData\\Local\\Programs\\Python\\Python39\\lib\\site-packages\\tensorflow\\python\\eager\\function.py\u001b[0m in \u001b[0;36m_call_flat\u001b[1;34m(self, args, captured_inputs, cancellation_manager)\u001b[0m\n\u001b[0;32m   1961\u001b[0m         and executing_eagerly):\n\u001b[0;32m   1962\u001b[0m       \u001b[1;31m# No tape is watching; skip to running the function.\u001b[0m\u001b[1;33m\u001b[0m\u001b[1;33m\u001b[0m\u001b[1;33m\u001b[0m\u001b[0m\n\u001b[1;32m-> 1963\u001b[1;33m       return self._build_call_outputs(self._inference_function.call(\n\u001b[0m\u001b[0;32m   1964\u001b[0m           ctx, args, cancellation_manager=cancellation_manager))\n\u001b[0;32m   1965\u001b[0m     forward_backward = self._select_forward_and_backward_functions(\n",
      "\u001b[1;32m~\\AppData\\Local\\Programs\\Python\\Python39\\lib\\site-packages\\tensorflow\\python\\eager\\function.py\u001b[0m in \u001b[0;36mcall\u001b[1;34m(self, ctx, args, cancellation_manager)\u001b[0m\n\u001b[0;32m    589\u001b[0m       \u001b[1;32mwith\u001b[0m \u001b[0m_InterpolateFunctionError\u001b[0m\u001b[1;33m(\u001b[0m\u001b[0mself\u001b[0m\u001b[1;33m)\u001b[0m\u001b[1;33m:\u001b[0m\u001b[1;33m\u001b[0m\u001b[1;33m\u001b[0m\u001b[0m\n\u001b[0;32m    590\u001b[0m         \u001b[1;32mif\u001b[0m \u001b[0mcancellation_manager\u001b[0m \u001b[1;32mis\u001b[0m \u001b[1;32mNone\u001b[0m\u001b[1;33m:\u001b[0m\u001b[1;33m\u001b[0m\u001b[1;33m\u001b[0m\u001b[0m\n\u001b[1;32m--> 591\u001b[1;33m           outputs = execute.execute(\n\u001b[0m\u001b[0;32m    592\u001b[0m               \u001b[0mstr\u001b[0m\u001b[1;33m(\u001b[0m\u001b[0mself\u001b[0m\u001b[1;33m.\u001b[0m\u001b[0msignature\u001b[0m\u001b[1;33m.\u001b[0m\u001b[0mname\u001b[0m\u001b[1;33m)\u001b[0m\u001b[1;33m,\u001b[0m\u001b[1;33m\u001b[0m\u001b[1;33m\u001b[0m\u001b[0m\n\u001b[0;32m    593\u001b[0m               \u001b[0mnum_outputs\u001b[0m\u001b[1;33m=\u001b[0m\u001b[0mself\u001b[0m\u001b[1;33m.\u001b[0m\u001b[0m_num_outputs\u001b[0m\u001b[1;33m,\u001b[0m\u001b[1;33m\u001b[0m\u001b[1;33m\u001b[0m\u001b[0m\n",
      "\u001b[1;32m~\\AppData\\Local\\Programs\\Python\\Python39\\lib\\site-packages\\tensorflow\\python\\eager\\execute.py\u001b[0m in \u001b[0;36mquick_execute\u001b[1;34m(op_name, num_outputs, inputs, attrs, ctx, name)\u001b[0m\n\u001b[0;32m     57\u001b[0m   \u001b[1;32mtry\u001b[0m\u001b[1;33m:\u001b[0m\u001b[1;33m\u001b[0m\u001b[1;33m\u001b[0m\u001b[0m\n\u001b[0;32m     58\u001b[0m     \u001b[0mctx\u001b[0m\u001b[1;33m.\u001b[0m\u001b[0mensure_initialized\u001b[0m\u001b[1;33m(\u001b[0m\u001b[1;33m)\u001b[0m\u001b[1;33m\u001b[0m\u001b[1;33m\u001b[0m\u001b[0m\n\u001b[1;32m---> 59\u001b[1;33m     tensors = pywrap_tfe.TFE_Py_Execute(ctx._handle, device_name, op_name,\n\u001b[0m\u001b[0;32m     60\u001b[0m                                         inputs, attrs, num_outputs)\n\u001b[0;32m     61\u001b[0m   \u001b[1;32mexcept\u001b[0m \u001b[0mcore\u001b[0m\u001b[1;33m.\u001b[0m\u001b[0m_NotOkStatusException\u001b[0m \u001b[1;32mas\u001b[0m \u001b[0me\u001b[0m\u001b[1;33m:\u001b[0m\u001b[1;33m\u001b[0m\u001b[1;33m\u001b[0m\u001b[0m\n",
      "\u001b[1;31mKeyboardInterrupt\u001b[0m: "
     ]
    }
   ],
   "source": [
    "hist = model.fit(train_ds1, epochs=10, validation_data=val_ds1)"
   ]
  },
  {
   "cell_type": "code",
   "execution_count": 110,
   "metadata": {},
   "outputs": [],
   "source": [
    "def aug(image, label): \n",
    "    image = tf.image.random_crop(image, [RES, RES, 3])\n",
    "    image = tf.image.random_flip_left_right(image) \n",
    "    return image, label"
   ]
  },
  {
   "cell_type": "code",
   "execution_count": 111,
   "metadata": {},
   "outputs": [],
   "source": [
    "train_ds = train_ds.unbatch().map(aug, num_parallel_calls=tf.data.AUTOTUNE).batch(BATCH_SIZE, drop_remainder=True).prefetch(tf.data.AUTOTUNE)"
   ]
  },
  {
   "cell_type": "code",
   "execution_count": 112,
   "metadata": {},
   "outputs": [],
   "source": [
    "model = create_model() "
   ]
  },
  {
   "cell_type": "code",
   "execution_count": 113,
   "metadata": {},
   "outputs": [],
   "source": [
    "model.compile(tf.keras.optimizers.Adam(learning_rate=0.001),\n",
    "              loss=tf.keras.losses.CategoricalCrossentropy(), \n",
    "              metrics=['accuracy']\n",
    "              )"
   ]
  },
  {
   "cell_type": "code",
   "execution_count": 114,
   "metadata": {},
   "outputs": [
    {
     "name": "stdout",
     "output_type": "stream",
     "text": [
      "Epoch 1/50\n",
      "287/287 [==============================] - 28s 86ms/step - loss: 0.9747 - accuracy: 0.7277 - val_loss: 1.1479 - val_accuracy: 0.6378\n",
      "Epoch 2/50\n",
      "287/287 [==============================] - 24s 84ms/step - loss: 0.6114 - accuracy: 0.8410 - val_loss: 1.2149 - val_accuracy: 0.6231\n",
      "Epoch 3/50\n",
      "287/287 [==============================] - 24s 85ms/step - loss: 0.4712 - accuracy: 0.8785 - val_loss: 0.9621 - val_accuracy: 0.7173\n",
      "Epoch 4/50\n",
      "287/287 [==============================] - 24s 84ms/step - loss: 0.3890 - accuracy: 0.8961 - val_loss: 0.8918 - val_accuracy: 0.7367\n",
      "Epoch 5/50\n",
      "287/287 [==============================] - 24s 84ms/step - loss: 0.3270 - accuracy: 0.9119 - val_loss: 0.9334 - val_accuracy: 0.7286\n",
      "Epoch 6/50\n",
      "287/287 [==============================] - 25s 85ms/step - loss: 0.2722 - accuracy: 0.9286 - val_loss: 0.8722 - val_accuracy: 0.7506\n",
      "Epoch 7/50\n",
      "287/287 [==============================] - 25s 87ms/step - loss: 0.2397 - accuracy: 0.9368 - val_loss: 0.9599 - val_accuracy: 0.7358\n",
      "Epoch 8/50\n",
      "287/287 [==============================] - 25s 86ms/step - loss: 0.2058 - accuracy: 0.9454 - val_loss: 0.8883 - val_accuracy: 0.7679\n",
      "Epoch 9/50\n",
      "287/287 [==============================] - 24s 84ms/step - loss: 0.1836 - accuracy: 0.9521 - val_loss: 0.6965 - val_accuracy: 0.8030\n",
      "Epoch 10/50\n",
      "287/287 [==============================] - 24s 85ms/step - loss: 0.1587 - accuracy: 0.9586 - val_loss: 0.7118 - val_accuracy: 0.8069\n",
      "Epoch 11/50\n",
      "287/287 [==============================] - 25s 86ms/step - loss: 0.1442 - accuracy: 0.9605 - val_loss: 0.8266 - val_accuracy: 0.7806\n",
      "Epoch 12/50\n",
      "287/287 [==============================] - 25s 85ms/step - loss: 0.1330 - accuracy: 0.9639 - val_loss: 0.8452 - val_accuracy: 0.7788\n",
      "Epoch 13/50\n",
      "287/287 [==============================] - 25s 85ms/step - loss: 0.1259 - accuracy: 0.9665 - val_loss: 0.8626 - val_accuracy: 0.7838\n",
      "Epoch 14/50\n",
      "287/287 [==============================] - 25s 87ms/step - loss: 0.1192 - accuracy: 0.9681 - val_loss: 0.6661 - val_accuracy: 0.8246\n",
      "Epoch 15/50\n",
      "287/287 [==============================] - 25s 86ms/step - loss: 0.1058 - accuracy: 0.9711 - val_loss: 0.6723 - val_accuracy: 0.8237\n",
      "Epoch 16/50\n",
      "287/287 [==============================] - 25s 86ms/step - loss: 0.0927 - accuracy: 0.9753 - val_loss: 0.7845 - val_accuracy: 0.8128\n",
      "Epoch 17/50\n",
      "287/287 [==============================] - 24s 85ms/step - loss: 0.0913 - accuracy: 0.9750 - val_loss: 0.9007 - val_accuracy: 0.7792\n",
      "Epoch 18/50\n",
      "287/287 [==============================] - 24s 83ms/step - loss: 0.0863 - accuracy: 0.9759 - val_loss: 0.7139 - val_accuracy: 0.8162\n",
      "Epoch 19/50\n",
      "287/287 [==============================] - 25s 88ms/step - loss: 0.0817 - accuracy: 0.9763 - val_loss: 0.7538 - val_accuracy: 0.8096\n",
      "Epoch 20/50\n",
      "287/287 [==============================] - 24s 82ms/step - loss: 0.0761 - accuracy: 0.9772 - val_loss: 0.8858 - val_accuracy: 0.7925\n",
      "Epoch 21/50\n",
      "287/287 [==============================] - 23s 80ms/step - loss: 0.0762 - accuracy: 0.9772 - val_loss: 0.7596 - val_accuracy: 0.8235\n",
      "Epoch 22/50\n",
      "287/287 [==============================] - 23s 80ms/step - loss: 0.0650 - accuracy: 0.9826 - val_loss: 0.7152 - val_accuracy: 0.8340\n",
      "Epoch 23/50\n",
      "287/287 [==============================] - 24s 82ms/step - loss: 0.0784 - accuracy: 0.9772 - val_loss: 0.7467 - val_accuracy: 0.8260\n",
      "Epoch 24/50\n",
      "287/287 [==============================] - 24s 82ms/step - loss: 0.0735 - accuracy: 0.9784 - val_loss: 0.7585 - val_accuracy: 0.8137\n",
      "Epoch 25/50\n",
      "287/287 [==============================] - 25s 87ms/step - loss: 0.0703 - accuracy: 0.9803 - val_loss: 0.6671 - val_accuracy: 0.8391\n",
      "Epoch 26/50\n",
      "287/287 [==============================] - 24s 83ms/step - loss: 0.0574 - accuracy: 0.9829 - val_loss: 0.7394 - val_accuracy: 0.8192\n",
      "Epoch 27/50\n",
      "287/287 [==============================] - 23s 80ms/step - loss: 0.0541 - accuracy: 0.9848 - val_loss: 0.9255 - val_accuracy: 0.7985\n",
      "Epoch 28/50\n",
      "287/287 [==============================] - 23s 80ms/step - loss: 0.0598 - accuracy: 0.9825 - val_loss: 0.7777 - val_accuracy: 0.8264\n",
      "Epoch 29/50\n",
      "287/287 [==============================] - 23s 81ms/step - loss: 0.0551 - accuracy: 0.9841 - val_loss: 0.7451 - val_accuracy: 0.8391\n",
      "Epoch 30/50\n",
      "287/287 [==============================] - 25s 86ms/step - loss: 0.0530 - accuracy: 0.9844 - val_loss: 0.8173 - val_accuracy: 0.8210\n",
      "Epoch 31/50\n",
      "287/287 [==============================] - 24s 82ms/step - loss: 0.0507 - accuracy: 0.9860 - val_loss: 0.7825 - val_accuracy: 0.8146\n",
      "Epoch 32/50\n",
      "287/287 [==============================] - 24s 81ms/step - loss: 0.0478 - accuracy: 0.9851 - val_loss: 0.6568 - val_accuracy: 0.8464\n",
      "Epoch 33/50\n",
      "287/287 [==============================] - 23s 79ms/step - loss: 0.0446 - accuracy: 0.9863 - val_loss: 0.7909 - val_accuracy: 0.8220\n",
      "Epoch 34/50\n",
      "287/287 [==============================] - 23s 80ms/step - loss: 0.0540 - accuracy: 0.9840 - val_loss: 0.8218 - val_accuracy: 0.8078\n",
      "Epoch 35/50\n",
      "287/287 [==============================] - 23s 80ms/step - loss: 0.0439 - accuracy: 0.9872 - val_loss: 0.8062 - val_accuracy: 0.8154\n",
      "Epoch 36/50\n",
      "287/287 [==============================] - 23s 81ms/step - loss: 0.0472 - accuracy: 0.9860 - val_loss: 0.8971 - val_accuracy: 0.8046\n",
      "Epoch 37/50\n",
      "287/287 [==============================] - 23s 80ms/step - loss: 0.0422 - accuracy: 0.9870 - val_loss: 0.6672 - val_accuracy: 0.8414\n",
      "Epoch 38/50\n",
      "287/287 [==============================] - 23s 81ms/step - loss: 0.0462 - accuracy: 0.9862 - val_loss: 0.8586 - val_accuracy: 0.8223\n",
      "Epoch 39/50\n",
      "287/287 [==============================] - 23s 80ms/step - loss: 0.0439 - accuracy: 0.9864 - val_loss: 0.7300 - val_accuracy: 0.8395\n",
      "Epoch 40/50\n",
      "287/287 [==============================] - 23s 80ms/step - loss: 0.0376 - accuracy: 0.9887 - val_loss: 0.7774 - val_accuracy: 0.8247\n",
      "Epoch 41/50\n",
      "287/287 [==============================] - 23s 80ms/step - loss: 0.0483 - accuracy: 0.9864 - val_loss: 0.8188 - val_accuracy: 0.8124\n",
      "Epoch 42/50\n",
      "287/287 [==============================] - 23s 80ms/step - loss: 0.0382 - accuracy: 0.9890 - val_loss: 0.7858 - val_accuracy: 0.8236\n",
      "Epoch 43/50\n",
      "287/287 [==============================] - 23s 80ms/step - loss: 0.0387 - accuracy: 0.9892 - val_loss: 0.7577 - val_accuracy: 0.8327\n",
      "Epoch 44/50\n",
      "287/287 [==============================] - 23s 81ms/step - loss: 0.0360 - accuracy: 0.9887 - val_loss: 0.8219 - val_accuracy: 0.8214\n",
      "Epoch 45/50\n",
      "287/287 [==============================] - 25s 86ms/step - loss: 0.0440 - accuracy: 0.9868 - val_loss: 0.9079 - val_accuracy: 0.8034\n",
      "Epoch 46/50\n",
      "287/287 [==============================] - 24s 82ms/step - loss: 0.0342 - accuracy: 0.9901 - val_loss: 0.8027 - val_accuracy: 0.8282\n",
      "Epoch 47/50\n",
      "287/287 [==============================] - 23s 81ms/step - loss: 0.0450 - accuracy: 0.9868 - val_loss: 0.9091 - val_accuracy: 0.8104\n",
      "Epoch 48/50\n",
      "287/287 [==============================] - 23s 79ms/step - loss: 0.0332 - accuracy: 0.9909 - val_loss: 0.8479 - val_accuracy: 0.8160\n",
      "Epoch 49/50\n",
      "287/287 [==============================] - 23s 81ms/step - loss: 0.0305 - accuracy: 0.9916 - val_loss: 0.7541 - val_accuracy: 0.8415\n",
      "Epoch 50/50\n",
      "287/287 [==============================] - 23s 80ms/step - loss: 0.0270 - accuracy: 0.9917 - val_loss: 0.7742 - val_accuracy: 0.8292\n"
     ]
    }
   ],
   "source": [
    "hist = model.fit(train_ds, epochs=50, validation_data=val_ds)"
   ]
  },
  {
   "cell_type": "code",
   "execution_count": 115,
   "metadata": {},
   "outputs": [
    {
     "data": {
      "image/png": "[encoded data removed]",
      "text/plain": [
       "<Figure size 432x288 with 1 Axes>"
      ]
     },
     "metadata": {
      "needs_background": "light"
     },
     "output_type": "display_data"
    },
    {
     "data": {
      "image/png": "[encoded data removed]",
      "text/plain": [
       "<Figure size 432x288 with 1 Axes>"
      ]
     },
     "metadata": {
      "needs_background": "light"
     },
     "output_type": "display_data"
    }
   ],
   "source": [
    "plt.plot(hist.history['accuracy'])\n",
    "plt.plot(hist.history['val_accuracy'])\n",
    "plt.title('Model accuracy')\n",
    "plt.xlabel('Epoch')\n",
    "plt.ylabel('Accuracy')\n",
    "plt.legend(['Train', 'Test'], loc='upper left')\n",
    "plt.show()\n",
    "\n",
    "plt.plot(hist.history['loss'])\n",
    "plt.plot(hist.history['val_loss'])\n",
    "plt.title('Model loss')\n",
    "plt.xlabel('Epoch')\n",
    "plt.ylabel('Loss')\n",
    "plt.legend(['Train', 'Test'], loc='upper left')\n",
    "plt.show()"
   ]
  }
 ],
 "metadata": {
  "interpreter": {
   "hash": "2ad7f8df95050390ccef3c53b91cc5366ee05cbbc975f965dd0a4e5b2556ae66"
  },
  "kernelspec": {
   "display_name": "Python 3.9.6 64-bit",
   "language": "python",
   "name": "python3"
  },
  "language_info": {
   "codemirror_mode": {
    "name": "ipython",
    "version": 3
   },
   "file_extension": ".py",
   "mimetype": "text/x-python",
   "name": "python",
   "nbconvert_exporter": "python",
   "pygments_lexer": "ipython3",
   "version": "3.9.5"
  },
  "orig_nbformat": 4
 },
 "nbformat": 4,
 "nbformat_minor": 2
}
